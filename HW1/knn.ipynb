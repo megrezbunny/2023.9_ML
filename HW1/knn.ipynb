{
 "cells": [
  {
   "cell_type": "markdown",
   "metadata": {},
   "source": [
    "### 1.预处理\n",
    "读文件、预处理数据、获取统计信息、得到训练集、验证集和测试集。"
   ]
  },
  {
   "cell_type": "code",
   "execution_count": 135,
   "metadata": {},
   "outputs": [
    {
     "name": "stdout",
     "output_type": "stream",
     "text": [
      "    type  fixed acidity  volatile acidity  citric acid  residual sugar  \\\n",
      "0  white            7.0              0.27         0.36            20.7   \n",
      "1  white            6.3              0.30         0.34             1.6   \n",
      "2  white            8.1              0.28         0.40             6.9   \n",
      "3  white            7.2              0.23         0.32             8.5   \n",
      "4  white            7.2              0.23         0.32             8.5   \n",
      "\n",
      "   chlorides  free sulfur dioxide  total sulfur dioxide  density    pH  \\\n",
      "0      0.045                 45.0                 170.0   1.0010  3.00   \n",
      "1      0.049                 14.0                 132.0   0.9940  3.30   \n",
      "2      0.050                 30.0                  97.0   0.9951  3.26   \n",
      "3      0.058                 47.0                 186.0   0.9956  3.19   \n",
      "4      0.058                 47.0                 186.0   0.9956  3.19   \n",
      "\n",
      "   sulphates  alcohol  quality  \n",
      "0       0.45      8.8        6  \n",
      "1       0.49      9.5        6  \n",
      "2       0.44     10.1        6  \n",
      "3       0.40      9.9        6  \n",
      "4       0.40      9.9        6  \n"
     ]
    }
   ],
   "source": [
    "import pandas as pd\n",
    "import numpy as np\n",
    "import matplotlib.pyplot as plt\n",
    "df = pd.read_csv('winequalityN.csv')\n",
    "print(df.head())"
   ]
  },
  {
   "cell_type": "code",
   "execution_count": 136,
   "metadata": {},
   "outputs": [],
   "source": [
    "df['type'] = df['type'].apply(lambda x : 1 if x == 'white' else 0)"
   ]
  },
  {
   "cell_type": "code",
   "execution_count": 137,
   "metadata": {},
   "outputs": [
    {
     "name": "stdout",
     "output_type": "stream",
     "text": [
      "1.00,0.00,0.75,0.43,1.00\n",
      "15.90,3.80,7.22,1.30,7.00\n",
      "1.58,0.08,0.34,0.16,0.29\n",
      "1.66,0.00,0.32,0.15,0.31\n",
      "65.80,0.60,5.44,4.76,3.00\n",
      "0.61,0.01,0.06,0.04,0.05\n",
      "289.00,1.00,30.52,17.76,29.00\n",
      "440.00,6.00,115.69,56.53,118.00\n",
      "1.04,0.99,0.99,0.00,0.99\n",
      "4.01,2.72,3.22,0.16,3.21\n",
      "2.00,0.22,0.53,0.15,0.51\n",
      "14.90,8.00,10.49,1.19,10.30\n",
      "9.00,3.00,5.82,0.87,6.00\n"
     ]
    }
   ],
   "source": [
    "df = df.dropna(how='any')       # 删掉含至少一个空值的行\n",
    "for key in df.keys():\n",
    "    print(f\"{df[key].max():.2f},{df[key].min():.2f},{df[key].mean():.2f},{df[key].std():.2f},{df[key].median():.2f}\")\n",
    "# df.iloc[:, :-1] = df.iloc[:, :-1].apply(lambda x : ((x - np.min(x)) / (np.max(x) - np.min(x))))   # 归一化\n",
    "df.iloc[:, :-1] = df.iloc[:, :-1].apply(lambda x : ((x - np.mean(x)) / (np.std(x))))   # 标准化"
   ]
  },
  {
   "cell_type": "code",
   "execution_count": 138,
   "metadata": {},
   "outputs": [
    {
     "name": "stdout",
     "output_type": "stream",
     "text": [
      "n_all=6463, n_train=3877, n_dev=1292, n_test=1294\n"
     ]
    }
   ],
   "source": [
    "n_all = df.shape[0]\n",
    "n_train = int(n_all * 0.6)\n",
    "n_dev = int(n_all * 0.2)\n",
    "n_test = n_all - n_train - n_dev\n",
    "m = 12\n",
    "print(f\"n_all={n_all}, n_train={n_train}, n_dev={n_dev}, n_test={n_test}\")"
   ]
  },
  {
   "cell_type": "code",
   "execution_count": 139,
   "metadata": {},
   "outputs": [
    {
     "data": {
      "text/html": [
       "<div>\n",
       "<style scoped>\n",
       "    .dataframe tbody tr th:only-of-type {\n",
       "        vertical-align: middle;\n",
       "    }\n",
       "\n",
       "    .dataframe tbody tr th {\n",
       "        vertical-align: top;\n",
       "    }\n",
       "\n",
       "    .dataframe thead th {\n",
       "        text-align: right;\n",
       "    }\n",
       "</style>\n",
       "<table border=\"1\" class=\"dataframe\">\n",
       "  <thead>\n",
       "    <tr style=\"text-align: right;\">\n",
       "      <th></th>\n",
       "      <th>type</th>\n",
       "      <th>fixed acidity</th>\n",
       "      <th>volatile acidity</th>\n",
       "      <th>citric acid</th>\n",
       "      <th>residual sugar</th>\n",
       "      <th>chlorides</th>\n",
       "      <th>free sulfur dioxide</th>\n",
       "      <th>total sulfur dioxide</th>\n",
       "      <th>density</th>\n",
       "      <th>pH</th>\n",
       "      <th>sulphates</th>\n",
       "      <th>alcohol</th>\n",
       "      <th>quality</th>\n",
       "    </tr>\n",
       "  </thead>\n",
       "  <tbody>\n",
       "    <tr>\n",
       "      <th>3672</th>\n",
       "      <td>0.571931</td>\n",
       "      <td>0.063372</td>\n",
       "      <td>0.427700</td>\n",
       "      <td>-0.197999</td>\n",
       "      <td>-0.766103</td>\n",
       "      <td>-0.685882</td>\n",
       "      <td>-0.254365</td>\n",
       "      <td>-0.737664</td>\n",
       "      <td>-1.935111</td>\n",
       "      <td>-1.608168</td>\n",
       "      <td>-1.216570</td>\n",
       "      <td>2.101508</td>\n",
       "      <td>8</td>\n",
       "    </tr>\n",
       "    <tr>\n",
       "      <th>3866</th>\n",
       "      <td>0.571931</td>\n",
       "      <td>0.910952</td>\n",
       "      <td>-0.665684</td>\n",
       "      <td>0.008554</td>\n",
       "      <td>-0.871223</td>\n",
       "      <td>-0.229692</td>\n",
       "      <td>1.604011</td>\n",
       "      <td>-0.047671</td>\n",
       "      <td>-0.972167</td>\n",
       "      <td>-0.736640</td>\n",
       "      <td>0.126596</td>\n",
       "      <td>0.425113</td>\n",
       "      <td>6</td>\n",
       "    </tr>\n",
       "    <tr>\n",
       "      <th>4645</th>\n",
       "      <td>0.571931</td>\n",
       "      <td>-1.708841</td>\n",
       "      <td>-0.604940</td>\n",
       "      <td>0.146257</td>\n",
       "      <td>-0.913271</td>\n",
       "      <td>-0.628858</td>\n",
       "      <td>1.040867</td>\n",
       "      <td>0.748474</td>\n",
       "      <td>-2.318290</td>\n",
       "      <td>0.632903</td>\n",
       "      <td>-1.418045</td>\n",
       "      <td>2.185328</td>\n",
       "      <td>7</td>\n",
       "    </tr>\n",
       "    <tr>\n",
       "      <th>4610</th>\n",
       "      <td>0.571931</td>\n",
       "      <td>-1.015366</td>\n",
       "      <td>0.609931</td>\n",
       "      <td>0.283959</td>\n",
       "      <td>-0.618936</td>\n",
       "      <td>-0.742906</td>\n",
       "      <td>-1.042767</td>\n",
       "      <td>-0.755356</td>\n",
       "      <td>-0.895531</td>\n",
       "      <td>0.010383</td>\n",
       "      <td>-0.343512</td>\n",
       "      <td>0.257473</td>\n",
       "      <td>6</td>\n",
       "    </tr>\n",
       "    <tr>\n",
       "      <th>113</th>\n",
       "      <td>0.571931</td>\n",
       "      <td>-0.398944</td>\n",
       "      <td>0.427700</td>\n",
       "      <td>0.146257</td>\n",
       "      <td>0.789668</td>\n",
       "      <td>-0.201180</td>\n",
       "      <td>-0.085421</td>\n",
       "      <td>0.606937</td>\n",
       "      <td>0.700491</td>\n",
       "      <td>0.010383</td>\n",
       "      <td>-0.142037</td>\n",
       "      <td>-1.167463</td>\n",
       "      <td>5</td>\n",
       "    </tr>\n",
       "  </tbody>\n",
       "</table>\n",
       "</div>"
      ],
      "text/plain": [
       "          type  fixed acidity  volatile acidity  citric acid  residual sugar  \\\n",
       "3672  0.571931       0.063372          0.427700    -0.197999       -0.766103   \n",
       "3866  0.571931       0.910952         -0.665684     0.008554       -0.871223   \n",
       "4645  0.571931      -1.708841         -0.604940     0.146257       -0.913271   \n",
       "4610  0.571931      -1.015366          0.609931     0.283959       -0.618936   \n",
       "113   0.571931      -0.398944          0.427700     0.146257        0.789668   \n",
       "\n",
       "      chlorides  free sulfur dioxide  total sulfur dioxide   density  \\\n",
       "3672  -0.685882            -0.254365             -0.737664 -1.935111   \n",
       "3866  -0.229692             1.604011             -0.047671 -0.972167   \n",
       "4645  -0.628858             1.040867              0.748474 -2.318290   \n",
       "4610  -0.742906            -1.042767             -0.755356 -0.895531   \n",
       "113   -0.201180            -0.085421              0.606937  0.700491   \n",
       "\n",
       "            pH  sulphates   alcohol  quality  \n",
       "3672 -1.608168  -1.216570  2.101508        8  \n",
       "3866 -0.736640   0.126596  0.425113        6  \n",
       "4645  0.632903  -1.418045  2.185328        7  \n",
       "4610  0.010383  -0.343512  0.257473        6  \n",
       "113   0.010383  -0.142037 -1.167463        5  "
      ]
     },
     "execution_count": 139,
     "metadata": {},
     "output_type": "execute_result"
    }
   ],
   "source": [
    "idx = np.arange(n_all)\n",
    "np.random.seed(114514)\n",
    "np.random.shuffle(idx)\n",
    "df = df.iloc[idx]\n",
    "df.head()"
   ]
  },
  {
   "cell_type": "code",
   "execution_count": 140,
   "metadata": {},
   "outputs": [
    {
     "name": "stdout",
     "output_type": "stream",
     "text": [
      "(3877, 12),(3877, 1),(1292, 12),(1292, 1),(1294, 12),(1294, 1)\n"
     ]
    }
   ],
   "source": [
    "X_train, Y_train = df.iloc[:n_train, :-1], df.iloc[:n_train, -1:]\n",
    "X_dev, Y_dev = df.iloc[n_train:n_train+n_dev, :-1], df.iloc[n_train:n_train+n_dev, -1:]\n",
    "X_test, Y_test = df.iloc[n_train+n_dev:n_all, :-1], df.iloc[n_train+n_dev:n_all, -1:]\n",
    "print(f\"{X_train.shape},{Y_train.shape},{X_dev.shape},{Y_dev.shape},{X_test.shape},{Y_test.shape}\")"
   ]
  },
  {
   "cell_type": "code",
   "execution_count": 141,
   "metadata": {},
   "outputs": [],
   "source": [
    "X_train = X_train.to_numpy()\n",
    "Y_train = Y_train.to_numpy().squeeze()\n",
    "X_dev = X_dev.to_numpy()\n",
    "Y_dev = Y_dev.to_numpy().squeeze()\n",
    "X_test = X_test.to_numpy()\n",
    "Y_test = Y_test.to_numpy().squeeze()"
   ]
  },
  {
   "cell_type": "markdown",
   "metadata": {},
   "source": [
    "### 2.实现算法, 调超参数"
   ]
  },
  {
   "cell_type": "code",
   "execution_count": 142,
   "metadata": {},
   "outputs": [],
   "source": [
    "def calc_dis(x1, x2):\n",
    "    return np.sqrt(np.sum(np.square(x1 - x2)))\n",
    "\n",
    "def predict(x, k):\n",
    "    dis_list = []\n",
    "    for i in range(n_train):\n",
    "        dis_list.append((calc_dis(X_train[i], x), Y_train[i]))\n",
    "    dis_list.sort(key=(lambda a : a[0]))\n",
    "    dis_list = dis_list[:k]\n",
    "    dis_list = [a[1] for a in dis_list]\n",
    "    return max(set(dis_list), key=dis_list.count)\n"
   ]
  },
  {
   "cell_type": "code",
   "execution_count": 143,
   "metadata": {},
   "outputs": [
    {
     "name": "stdout",
     "output_type": "stream",
     "text": [
      "Y_train=8,Y_pred=6\n",
      "Y_train=6,Y_pred=6\n",
      "Y_train=7,Y_pred=7\n",
      "Y_train=6,Y_pred=6\n",
      "Y_train=5,Y_pred=5\n",
      "Y_train=7,Y_pred=6\n",
      "Y_train=6,Y_pred=6\n",
      "Y_train=6,Y_pred=6\n",
      "Y_train=7,Y_pred=6\n",
      "Y_train=6,Y_pred=6\n"
     ]
    }
   ],
   "source": [
    "for j in range(10):\n",
    "    print(f\"Y_train={Y_train[j]},Y_pred={predict(X_train[j], 20)}\")     # 稍微测试下能不能跑起来"
   ]
  },
  {
   "cell_type": "code",
   "execution_count": 144,
   "metadata": {},
   "outputs": [
    {
     "name": "stdout",
     "output_type": "stream",
     "text": [
      "k=1, correct_rate=0.6075851393188855\n",
      "k=2, correct_rate=0.5356037151702786\n",
      "k=3, correct_rate=0.5286377708978328\n",
      "k=4, correct_rate=0.5557275541795665\n",
      "k=5, correct_rate=0.5464396284829721\n",
      "k=6, correct_rate=0.554953560371517\n",
      "k=7, correct_rate=0.5626934984520123\n",
      "k=8, correct_rate=0.5557275541795665\n",
      "k=9, correct_rate=0.5487616099071208\n",
      "k=10, correct_rate=0.5425696594427245\n",
      "k=11, correct_rate=0.541795665634675\n",
      "k=12, correct_rate=0.5433436532507739\n",
      "k=13, correct_rate=0.5479876160990712\n",
      "k=14, correct_rate=0.5464396284829721\n",
      "k=15, correct_rate=0.5472136222910217\n",
      "k=16, correct_rate=0.5402476780185759\n",
      "k=17, correct_rate=0.5441176470588235\n",
      "k=18, correct_rate=0.5379256965944272\n",
      "k=19, correct_rate=0.5464396284829721\n",
      "k=20, correct_rate=0.5386996904024768\n",
      "k=21, correct_rate=0.5270897832817337\n",
      "k=22, correct_rate=0.5286377708978328\n",
      "k=23, correct_rate=0.5325077399380805\n",
      "k=24, correct_rate=0.5301857585139319\n",
      "k=25, correct_rate=0.5286377708978328\n",
      "k=26, correct_rate=0.5386996904024768\n",
      "k=27, correct_rate=0.5363777089783281\n",
      "k=28, correct_rate=0.5356037151702786\n",
      "k=29, correct_rate=0.5410216718266254\n",
      "k=30, correct_rate=0.5340557275541795\n"
     ]
    }
   ],
   "source": [
    "k_x = range(1, 31)\n",
    "k_y = []\n",
    "for k in k_x:\n",
    "    correct_cnt = 0\n",
    "    for i in range(n_dev):\n",
    "        y_pred = predict(X_dev[i], k)\n",
    "        if Y_dev[i] == y_pred:\n",
    "            correct_cnt += 1\n",
    "    print(f\"k={k}, correct_rate={correct_cnt / n_dev}\")\n",
    "    k_y.append(correct_cnt / n_dev)"
   ]
  },
  {
   "cell_type": "code",
   "execution_count": 145,
   "metadata": {},
   "outputs": [
    {
     "data": {
      "text/plain": [
       "[<matplotlib.lines.Line2D at 0x2acb1548580>]"
      ]
     },
     "execution_count": 145,
     "metadata": {},
     "output_type": "execute_result"
    },
    {
     "data": {
      "image/png": "[encoded data removed]",
      "text/plain": [
       "<Figure size 640x480 with 1 Axes>"
      ]
     },
     "metadata": {},
     "output_type": "display_data"
    }
   ],
   "source": [
    "plt.xlabel(\"k\")\n",
    "plt.ylabel(\"correct_rate\")\n",
    "plt.plot(k_x, k_y)"
   ]
  },
  {
   "cell_type": "markdown",
   "metadata": {},
   "source": [
    "### 3.评估\n",
    "在测试集上计算准确率。"
   ]
  },
  {
   "cell_type": "code",
   "execution_count": 146,
   "metadata": {},
   "outputs": [],
   "source": [
    "def evaluate(k):\n",
    "    correct_cnt = 0\n",
    "    for i in range(n_test):\n",
    "        y_pred = predict(X_test[i], k)\n",
    "        if Y_test[i] == y_pred:\n",
    "            correct_cnt += 1\n",
    "    print(f\"correct_cnt={correct_cnt}\")\n",
    "    return correct_cnt / n_test"
   ]
  },
  {
   "cell_type": "code",
   "execution_count": 147,
   "metadata": {},
   "outputs": [
    {
     "name": "stdout",
     "output_type": "stream",
     "text": [
      "correct_cnt=762\n"
     ]
    },
    {
     "data": {
      "text/plain": [
       "0.58887171561051"
      ]
     },
     "execution_count": 147,
     "metadata": {},
     "output_type": "execute_result"
    }
   ],
   "source": [
    "evaluate(1)"
   ]
  }
 ],
 "metadata": {
  "kernelspec": {
   "display_name": "python39",
   "language": "python",
   "name": "python3"
  },
  "language_info": {
   "codemirror_mode": {
    "name": "ipython",
    "version": 3
   },
   "file_extension": ".py",
   "mimetype": "text/x-python",
   "name": "python",
   "nbconvert_exporter": "python",
   "pygments_lexer": "ipython3",
   "version": "3.9.13"
  },
  "orig_nbformat": 4
 },
 "nbformat": 4,
 "nbformat_minor": 2
}
