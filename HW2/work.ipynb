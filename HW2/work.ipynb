{
 "cells": [
  {
   "cell_type": "markdown",
   "metadata": {},
   "source": [
    "## 0. 数据导入"
   ]
  },
  {
   "cell_type": "code",
   "execution_count": 1,
   "metadata": {},
   "outputs": [],
   "source": [
    "import pandas as pd\n",
    "import numpy as np\n",
    "import matplotlib.pyplot as plt"
   ]
  },
  {
   "cell_type": "code",
   "execution_count": 2,
   "metadata": {},
   "outputs": [
    {
     "data": {
      "text/html": [
       "<div>\n",
       "<style scoped>\n",
       "    .dataframe tbody tr th:only-of-type {\n",
       "        vertical-align: middle;\n",
       "    }\n",
       "\n",
       "    .dataframe tbody tr th {\n",
       "        vertical-align: top;\n",
       "    }\n",
       "\n",
       "    .dataframe thead th {\n",
       "        text-align: right;\n",
       "    }\n",
       "</style>\n",
       "<table border=\"1\" class=\"dataframe\">\n",
       "  <thead>\n",
       "    <tr style=\"text-align: right;\">\n",
       "      <th></th>\n",
       "      <th>CRIM</th>\n",
       "      <th>ZN</th>\n",
       "      <th>INDUS</th>\n",
       "      <th>CHAS</th>\n",
       "      <th>NOX</th>\n",
       "      <th>RM</th>\n",
       "      <th>AGE</th>\n",
       "      <th>DIS</th>\n",
       "      <th>RAD</th>\n",
       "      <th>TAX</th>\n",
       "      <th>PTRATIO</th>\n",
       "      <th>B</th>\n",
       "      <th>LSTAT</th>\n",
       "      <th>PRICE</th>\n",
       "    </tr>\n",
       "  </thead>\n",
       "  <tbody>\n",
       "    <tr>\n",
       "      <th>0</th>\n",
       "      <td>0.00632</td>\n",
       "      <td>18.0</td>\n",
       "      <td>2.31</td>\n",
       "      <td>0</td>\n",
       "      <td>0.538</td>\n",
       "      <td>6.575</td>\n",
       "      <td>65.2</td>\n",
       "      <td>4.0900</td>\n",
       "      <td>1</td>\n",
       "      <td>296.0</td>\n",
       "      <td>15.3</td>\n",
       "      <td>396.90</td>\n",
       "      <td>4.98</td>\n",
       "      <td>24.0</td>\n",
       "    </tr>\n",
       "    <tr>\n",
       "      <th>1</th>\n",
       "      <td>0.02731</td>\n",
       "      <td>0.0</td>\n",
       "      <td>7.07</td>\n",
       "      <td>0</td>\n",
       "      <td>0.469</td>\n",
       "      <td>6.421</td>\n",
       "      <td>78.9</td>\n",
       "      <td>4.9671</td>\n",
       "      <td>2</td>\n",
       "      <td>242.0</td>\n",
       "      <td>17.8</td>\n",
       "      <td>396.90</td>\n",
       "      <td>9.14</td>\n",
       "      <td>21.6</td>\n",
       "    </tr>\n",
       "    <tr>\n",
       "      <th>2</th>\n",
       "      <td>0.02729</td>\n",
       "      <td>0.0</td>\n",
       "      <td>7.07</td>\n",
       "      <td>0</td>\n",
       "      <td>0.469</td>\n",
       "      <td>7.185</td>\n",
       "      <td>61.1</td>\n",
       "      <td>4.9671</td>\n",
       "      <td>2</td>\n",
       "      <td>242.0</td>\n",
       "      <td>17.8</td>\n",
       "      <td>392.83</td>\n",
       "      <td>4.03</td>\n",
       "      <td>34.7</td>\n",
       "    </tr>\n",
       "    <tr>\n",
       "      <th>3</th>\n",
       "      <td>0.03237</td>\n",
       "      <td>0.0</td>\n",
       "      <td>2.18</td>\n",
       "      <td>0</td>\n",
       "      <td>0.458</td>\n",
       "      <td>6.998</td>\n",
       "      <td>45.8</td>\n",
       "      <td>6.0622</td>\n",
       "      <td>3</td>\n",
       "      <td>222.0</td>\n",
       "      <td>18.7</td>\n",
       "      <td>394.63</td>\n",
       "      <td>2.94</td>\n",
       "      <td>33.4</td>\n",
       "    </tr>\n",
       "    <tr>\n",
       "      <th>4</th>\n",
       "      <td>0.06905</td>\n",
       "      <td>0.0</td>\n",
       "      <td>2.18</td>\n",
       "      <td>0</td>\n",
       "      <td>0.458</td>\n",
       "      <td>7.147</td>\n",
       "      <td>54.2</td>\n",
       "      <td>6.0622</td>\n",
       "      <td>3</td>\n",
       "      <td>222.0</td>\n",
       "      <td>18.7</td>\n",
       "      <td>396.90</td>\n",
       "      <td>5.33</td>\n",
       "      <td>36.2</td>\n",
       "    </tr>\n",
       "  </tbody>\n",
       "</table>\n",
       "</div>"
      ],
      "text/plain": [
       "      CRIM    ZN  INDUS  CHAS    NOX     RM   AGE     DIS  RAD    TAX  \\\n",
       "0  0.00632  18.0   2.31     0  0.538  6.575  65.2  4.0900    1  296.0   \n",
       "1  0.02731   0.0   7.07     0  0.469  6.421  78.9  4.9671    2  242.0   \n",
       "2  0.02729   0.0   7.07     0  0.469  7.185  61.1  4.9671    2  242.0   \n",
       "3  0.03237   0.0   2.18     0  0.458  6.998  45.8  6.0622    3  222.0   \n",
       "4  0.06905   0.0   2.18     0  0.458  7.147  54.2  6.0622    3  222.0   \n",
       "\n",
       "   PTRATIO       B  LSTAT  PRICE  \n",
       "0     15.3  396.90   4.98   24.0  \n",
       "1     17.8  396.90   9.14   21.6  \n",
       "2     17.8  392.83   4.03   34.7  \n",
       "3     18.7  394.63   2.94   33.4  \n",
       "4     18.7  396.90   5.33   36.2  "
      ]
     },
     "execution_count": 2,
     "metadata": {},
     "output_type": "execute_result"
    }
   ],
   "source": [
    "df = pd.read_csv('housing.csv', header=None, sep='\\s+')    # 没有列头, 分割符为任意空字符\n",
    "columns = [\"CRIM\",\"ZN\",\"INDUS\",\"CHAS\",\"NOX\",\"RM\",\"AGE\",\"DIS\",\"RAD\",\"TAX\",\"PTRATIO\",\"B\",\"LSTAT\",\"PRICE\"]\n",
    "df.columns = columns                                        # 列头重命名\n",
    "df.head()"
   ]
  },
  {
   "cell_type": "code",
   "execution_count": 3,
   "metadata": {},
   "outputs": [
    {
     "data": {
      "text/html": [
       "<div>\n",
       "<style scoped>\n",
       "    .dataframe tbody tr th:only-of-type {\n",
       "        vertical-align: middle;\n",
       "    }\n",
       "\n",
       "    .dataframe tbody tr th {\n",
       "        vertical-align: top;\n",
       "    }\n",
       "\n",
       "    .dataframe thead th {\n",
       "        text-align: right;\n",
       "    }\n",
       "</style>\n",
       "<table border=\"1\" class=\"dataframe\">\n",
       "  <thead>\n",
       "    <tr style=\"text-align: right;\">\n",
       "      <th></th>\n",
       "      <th>count</th>\n",
       "      <th>mean</th>\n",
       "      <th>std</th>\n",
       "      <th>min</th>\n",
       "      <th>25%</th>\n",
       "      <th>50%</th>\n",
       "      <th>75%</th>\n",
       "      <th>max</th>\n",
       "    </tr>\n",
       "  </thead>\n",
       "  <tbody>\n",
       "    <tr>\n",
       "      <th>CRIM</th>\n",
       "      <td>506.0</td>\n",
       "      <td>3.613524</td>\n",
       "      <td>8.601545</td>\n",
       "      <td>0.00632</td>\n",
       "      <td>0.082045</td>\n",
       "      <td>0.25651</td>\n",
       "      <td>3.677083</td>\n",
       "      <td>88.9762</td>\n",
       "    </tr>\n",
       "    <tr>\n",
       "      <th>ZN</th>\n",
       "      <td>506.0</td>\n",
       "      <td>11.363636</td>\n",
       "      <td>23.322453</td>\n",
       "      <td>0.00000</td>\n",
       "      <td>0.000000</td>\n",
       "      <td>0.00000</td>\n",
       "      <td>12.500000</td>\n",
       "      <td>100.0000</td>\n",
       "    </tr>\n",
       "    <tr>\n",
       "      <th>INDUS</th>\n",
       "      <td>506.0</td>\n",
       "      <td>11.136779</td>\n",
       "      <td>6.860353</td>\n",
       "      <td>0.46000</td>\n",
       "      <td>5.190000</td>\n",
       "      <td>9.69000</td>\n",
       "      <td>18.100000</td>\n",
       "      <td>27.7400</td>\n",
       "    </tr>\n",
       "    <tr>\n",
       "      <th>CHAS</th>\n",
       "      <td>506.0</td>\n",
       "      <td>0.069170</td>\n",
       "      <td>0.253994</td>\n",
       "      <td>0.00000</td>\n",
       "      <td>0.000000</td>\n",
       "      <td>0.00000</td>\n",
       "      <td>0.000000</td>\n",
       "      <td>1.0000</td>\n",
       "    </tr>\n",
       "    <tr>\n",
       "      <th>NOX</th>\n",
       "      <td>506.0</td>\n",
       "      <td>0.554695</td>\n",
       "      <td>0.115878</td>\n",
       "      <td>0.38500</td>\n",
       "      <td>0.449000</td>\n",
       "      <td>0.53800</td>\n",
       "      <td>0.624000</td>\n",
       "      <td>0.8710</td>\n",
       "    </tr>\n",
       "    <tr>\n",
       "      <th>RM</th>\n",
       "      <td>506.0</td>\n",
       "      <td>6.284634</td>\n",
       "      <td>0.702617</td>\n",
       "      <td>3.56100</td>\n",
       "      <td>5.885500</td>\n",
       "      <td>6.20850</td>\n",
       "      <td>6.623500</td>\n",
       "      <td>8.7800</td>\n",
       "    </tr>\n",
       "    <tr>\n",
       "      <th>AGE</th>\n",
       "      <td>506.0</td>\n",
       "      <td>68.574901</td>\n",
       "      <td>28.148861</td>\n",
       "      <td>2.90000</td>\n",
       "      <td>45.025000</td>\n",
       "      <td>77.50000</td>\n",
       "      <td>94.075000</td>\n",
       "      <td>100.0000</td>\n",
       "    </tr>\n",
       "    <tr>\n",
       "      <th>DIS</th>\n",
       "      <td>506.0</td>\n",
       "      <td>3.795043</td>\n",
       "      <td>2.105710</td>\n",
       "      <td>1.12960</td>\n",
       "      <td>2.100175</td>\n",
       "      <td>3.20745</td>\n",
       "      <td>5.188425</td>\n",
       "      <td>12.1265</td>\n",
       "    </tr>\n",
       "    <tr>\n",
       "      <th>RAD</th>\n",
       "      <td>506.0</td>\n",
       "      <td>9.549407</td>\n",
       "      <td>8.707259</td>\n",
       "      <td>1.00000</td>\n",
       "      <td>4.000000</td>\n",
       "      <td>5.00000</td>\n",
       "      <td>24.000000</td>\n",
       "      <td>24.0000</td>\n",
       "    </tr>\n",
       "    <tr>\n",
       "      <th>TAX</th>\n",
       "      <td>506.0</td>\n",
       "      <td>408.237154</td>\n",
       "      <td>168.537116</td>\n",
       "      <td>187.00000</td>\n",
       "      <td>279.000000</td>\n",
       "      <td>330.00000</td>\n",
       "      <td>666.000000</td>\n",
       "      <td>711.0000</td>\n",
       "    </tr>\n",
       "    <tr>\n",
       "      <th>PTRATIO</th>\n",
       "      <td>506.0</td>\n",
       "      <td>18.455534</td>\n",
       "      <td>2.164946</td>\n",
       "      <td>12.60000</td>\n",
       "      <td>17.400000</td>\n",
       "      <td>19.05000</td>\n",
       "      <td>20.200000</td>\n",
       "      <td>22.0000</td>\n",
       "    </tr>\n",
       "    <tr>\n",
       "      <th>B</th>\n",
       "      <td>506.0</td>\n",
       "      <td>356.674032</td>\n",
       "      <td>91.294864</td>\n",
       "      <td>0.32000</td>\n",
       "      <td>375.377500</td>\n",
       "      <td>391.44000</td>\n",
       "      <td>396.225000</td>\n",
       "      <td>396.9000</td>\n",
       "    </tr>\n",
       "    <tr>\n",
       "      <th>LSTAT</th>\n",
       "      <td>506.0</td>\n",
       "      <td>12.653063</td>\n",
       "      <td>7.141062</td>\n",
       "      <td>1.73000</td>\n",
       "      <td>6.950000</td>\n",
       "      <td>11.36000</td>\n",
       "      <td>16.955000</td>\n",
       "      <td>37.9700</td>\n",
       "    </tr>\n",
       "    <tr>\n",
       "      <th>PRICE</th>\n",
       "      <td>506.0</td>\n",
       "      <td>22.532806</td>\n",
       "      <td>9.197104</td>\n",
       "      <td>5.00000</td>\n",
       "      <td>17.025000</td>\n",
       "      <td>21.20000</td>\n",
       "      <td>25.000000</td>\n",
       "      <td>50.0000</td>\n",
       "    </tr>\n",
       "  </tbody>\n",
       "</table>\n",
       "</div>"
      ],
      "text/plain": [
       "         count        mean         std        min         25%        50%  \\\n",
       "CRIM     506.0    3.613524    8.601545    0.00632    0.082045    0.25651   \n",
       "ZN       506.0   11.363636   23.322453    0.00000    0.000000    0.00000   \n",
       "INDUS    506.0   11.136779    6.860353    0.46000    5.190000    9.69000   \n",
       "CHAS     506.0    0.069170    0.253994    0.00000    0.000000    0.00000   \n",
       "NOX      506.0    0.554695    0.115878    0.38500    0.449000    0.53800   \n",
       "RM       506.0    6.284634    0.702617    3.56100    5.885500    6.20850   \n",
       "AGE      506.0   68.574901   28.148861    2.90000   45.025000   77.50000   \n",
       "DIS      506.0    3.795043    2.105710    1.12960    2.100175    3.20745   \n",
       "RAD      506.0    9.549407    8.707259    1.00000    4.000000    5.00000   \n",
       "TAX      506.0  408.237154  168.537116  187.00000  279.000000  330.00000   \n",
       "PTRATIO  506.0   18.455534    2.164946   12.60000   17.400000   19.05000   \n",
       "B        506.0  356.674032   91.294864    0.32000  375.377500  391.44000   \n",
       "LSTAT    506.0   12.653063    7.141062    1.73000    6.950000   11.36000   \n",
       "PRICE    506.0   22.532806    9.197104    5.00000   17.025000   21.20000   \n",
       "\n",
       "                75%       max  \n",
       "CRIM       3.677083   88.9762  \n",
       "ZN        12.500000  100.0000  \n",
       "INDUS     18.100000   27.7400  \n",
       "CHAS       0.000000    1.0000  \n",
       "NOX        0.624000    0.8710  \n",
       "RM         6.623500    8.7800  \n",
       "AGE       94.075000  100.0000  \n",
       "DIS        5.188425   12.1265  \n",
       "RAD       24.000000   24.0000  \n",
       "TAX      666.000000  711.0000  \n",
       "PTRATIO   20.200000   22.0000  \n",
       "B        396.225000  396.9000  \n",
       "LSTAT     16.955000   37.9700  \n",
       "PRICE     25.000000   50.0000  "
      ]
     },
     "execution_count": 3,
     "metadata": {},
     "output_type": "execute_result"
    }
   ],
   "source": [
    "df.describe().T                        # 查看基本统计量"
   ]
  },
  {
   "cell_type": "markdown",
   "metadata": {},
   "source": [
    "## 1. 数据预处理\n",
    "包括对特征进行标准化，以及分割训练测试集"
   ]
  },
  {
   "cell_type": "code",
   "execution_count": 16,
   "metadata": {},
   "outputs": [
    {
     "name": "stdout",
     "output_type": "stream",
     "text": [
      "X_ori: (117, 2), y_ori: (117, 0)\n",
      "X_train: (87, 2), X_test: (30, 2), y_train: (87, 0), y_test: (30, 0)\n",
      "X_train_std: (87, 2), X_test_std: (30, 2)\n"
     ]
    }
   ],
   "source": [
    "from sklearn.model_selection import train_test_split\n",
    "from sklearn.preprocessing import StandardScaler\n",
    "from sklearn.metrics import mean_squared_error                                                              # 均方误差函数\n",
    "\n",
    "X_ori, y_ori = df.iloc[:,:13], df.iloc[:,13:]\n",
    "X_train, X_test, y_train, y_test = train_test_split(X_ori, y_ori, test_size=0.25, random_state=1)            # 调包分割训练集测试集\n",
    "scaler = StandardScaler()\n",
    "X_train_std = scaler.fit_transform(X_train)                                                                 # 调包进行每一列的标准化\n",
    "X_test_std = scaler.transform(X_test)\n",
    "\n",
    "print(f\"X_ori: {X_ori.shape}, y_ori: {y_ori.shape}\")\n",
    "print(f\"X_train: {X_train.shape}, X_test: {X_test.shape}, y_train: {y_train.shape}, y_test: {y_test.shape}\")\n",
    "print(f\"X_train_std: {X_train_std.shape}, X_test_std: {X_test_std.shape}\")"
   ]
  },
  {
   "cell_type": "markdown",
   "metadata": {},
   "source": [
    "## 2. Ridge regression"
   ]
  },
  {
   "cell_type": "code",
   "execution_count": 5,
   "metadata": {},
   "outputs": [
    {
     "name": "stdout",
     "output_type": "stream",
     "text": [
      "train mse: 22.48, test mse: 21.90\n"
     ]
    }
   ],
   "source": [
    "from sklearn.linear_model import Ridge\n",
    "\n",
    "model_Ridge = Ridge(alpha=0.5)\n",
    "model_Ridge.fit(X_train_std, y_train)\n",
    "y_pred_train_Ridge = model_Ridge.predict(X_train_std)\n",
    "mse_train = mean_squared_error(y_train, y_pred_train_Ridge)\n",
    "y_pred_test_Ridge = model_Ridge.predict(X_test_std)\n",
    "mse_test = mean_squared_error(y_test, y_pred_test_Ridge)\n",
    "\n",
    "print(f\"train mse: {mse_train:.2f}, test mse: {mse_test:.2f}\")"
   ]
  },
  {
   "cell_type": "code",
   "execution_count": 6,
   "metadata": {},
   "outputs": [
    {
     "name": "stdout",
     "output_type": "stream",
     "text": [
      "w=[[-1.06529961  1.32518886  0.24624079  0.66760443 -2.47705108  1.98317048\n",
      "   0.188086   -3.12079188  2.61499643 -1.75783793 -2.12515378  0.56218556\n",
      "  -4.02074809]]\n",
      "b=[22.34459103]\n"
     ]
    }
   ],
   "source": [
    "print(f\"w={model_Ridge.coef_}\")\n",
    "print(f\"b={model_Ridge.intercept_}\")"
   ]
  },
  {
   "cell_type": "code",
   "execution_count": 7,
   "metadata": {},
   "outputs": [
    {
     "name": "stdout",
     "output_type": "stream",
     "text": [
      "alpha=0.01, w_2=54.99, mse_train=22.48, mse_test=21.90\n",
      "alpha=0.54, w_2=54.11, mse_train=22.48, mse_test=21.90\n",
      "alpha=1.06, w_2=53.27, mse_train=22.48, mse_test=21.89\n",
      "alpha=1.59, w_2=52.47, mse_train=22.48, mse_test=21.90\n",
      "alpha=2.11, w_2=51.71, mse_train=22.49, mse_test=21.90\n",
      "alpha=2.64, w_2=50.99, mse_train=22.49, mse_test=21.90\n",
      "alpha=3.16, w_2=50.29, mse_train=22.50, mse_test=21.91\n",
      "alpha=3.69, w_2=49.63, mse_train=22.50, mse_test=21.91\n",
      "alpha=4.22, w_2=48.99, mse_train=22.51, mse_test=21.92\n",
      "alpha=4.74, w_2=48.38, mse_train=22.52, mse_test=21.93\n",
      "alpha=5.27, w_2=47.80, mse_train=22.52, mse_test=21.93\n",
      "alpha=5.79, w_2=47.23, mse_train=22.53, mse_test=21.94\n",
      "alpha=6.32, w_2=46.69, mse_train=22.54, mse_test=21.95\n",
      "alpha=6.85, w_2=46.16, mse_train=22.55, mse_test=21.96\n",
      "alpha=7.37, w_2=45.66, mse_train=22.56, mse_test=21.98\n",
      "alpha=7.90, w_2=45.17, mse_train=22.57, mse_test=21.99\n",
      "alpha=8.42, w_2=44.70, mse_train=22.58, mse_test=22.00\n",
      "alpha=8.95, w_2=44.24, mse_train=22.59, mse_test=22.01\n",
      "alpha=9.47, w_2=43.80, mse_train=22.60, mse_test=22.03\n",
      "alpha=10.00, w_2=43.37, mse_train=22.61, mse_test=22.04\n"
     ]
    }
   ],
   "source": [
    "alphas = np.linspace(0.01, 10, 20)\n",
    "w_2s = []\n",
    "for alpha in alphas:                                                # 考察不同 alpha 值对模型参数、性能的影响\n",
    "    model_Ridge = Ridge(alpha=alpha)\n",
    "    model_Ridge.fit(X_train_std, y_train)\n",
    "    y_pred_train_Ridge = model_Ridge.predict(X_train_std)\n",
    "    mse_train = mean_squared_error(y_train, y_pred_train_Ridge)\n",
    "    y_pred_test_Ridge = model_Ridge.predict(X_test_std)\n",
    "    mse_test = mean_squared_error(y_test, y_pred_test_Ridge)\n",
    "    w_2 = (model_Ridge.coef_ * model_Ridge.coef_).sum()             # 系数的 L2 范数（模的平方）之和\n",
    "    w_2s.append(w_2)\n",
    "    print(f\"alpha={alpha:.2f}, w_2={w_2:.2f}, mse_train={mse_train:.2f}, mse_test={mse_test:.2f}\")"
   ]
  },
  {
   "cell_type": "code",
   "execution_count": 8,
   "metadata": {},
   "outputs": [
    {
     "data": {
      "text/plain": [
       "Text(0, 0.5, 'w_2')"
      ]
     },
     "execution_count": 8,
     "metadata": {},
     "output_type": "execute_result"
    },
    {
     "data": {
      "image/png": "[encoded data removed]",
      "text/plain": [
       "<Figure size 640x480 with 1 Axes>"
      ]
     },
     "metadata": {},
     "output_type": "display_data"
    }
   ],
   "source": [
    "plt.plot(alphas, w_2s)\n",
    "plt.xlabel('alpha')\n",
    "plt.ylabel('w_2')"
   ]
  },
  {
   "cell_type": "markdown",
   "metadata": {},
   "source": [
    "## 2. Lasso regression"
   ]
  },
  {
   "cell_type": "code",
   "execution_count": 9,
   "metadata": {},
   "outputs": [
    {
     "name": "stdout",
     "output_type": "stream",
     "text": [
      "train mse: 26.91, test mse: 28.60\n"
     ]
    }
   ],
   "source": [
    "from sklearn.linear_model import Lasso\n",
    "\n",
    "model_Lasso = Lasso(alpha=0.5)\n",
    "model_Lasso.fit(X_train_std, y_train)\n",
    "y_pred_train_Lasso = model_Lasso.predict(X_train_std)\n",
    "mse_train = mean_squared_error(y_train, y_pred_train_Lasso)\n",
    "y_pred_test_Lasso = model_Lasso.predict(X_test_std)\n",
    "mse_test = mean_squared_error(y_test, y_pred_test_Lasso)\n",
    "\n",
    "print(f\"train mse: {mse_train:.2f}, test mse: {mse_test:.2f}\")"
   ]
  },
  {
   "cell_type": "code",
   "execution_count": 10,
   "metadata": {},
   "outputs": [
    {
     "name": "stdout",
     "output_type": "stream",
     "text": [
      "w=[-0.1782935   0.         -0.          0.36409179 -0.10063016  2.25265362\n",
      " -0.         -0.01392629 -0.         -0.         -1.60755398  0.23553052\n",
      " -3.88654948]\n",
      "b=[22.34459103]\n"
     ]
    }
   ],
   "source": [
    "print(f\"w={model_Lasso.coef_}\")\n",
    "print(f\"b={model_Lasso.intercept_}\")"
   ]
  },
  {
   "cell_type": "code",
   "execution_count": 11,
   "metadata": {},
   "outputs": [
    {
     "name": "stdout",
     "output_type": "stream",
     "text": [
      "alpha=0.01, w_1=21.55, mse_train=22.49, mse_test=21.92\n",
      "alpha=0.54, w_1=8.50, mse_train=27.05, mse_test=28.89\n",
      "alpha=1.06, w_1=7.12, mse_train=29.17, mse_test=33.17\n",
      "alpha=1.59, w_1=6.27, mse_train=31.41, mse_test=37.36\n",
      "alpha=2.11, w_1=5.43, mse_train=34.53, mse_test=42.50\n",
      "alpha=2.64, w_1=4.58, mse_train=38.55, mse_test=48.60\n",
      "alpha=3.16, w_1=3.78, mse_train=43.19, mse_test=55.39\n",
      "alpha=3.69, w_1=3.13, mse_train=47.67, mse_test=61.98\n",
      "alpha=4.22, w_1=2.48, mse_train=52.83, mse_test=69.28\n",
      "alpha=4.74, w_1=1.85, mse_train=58.47, mse_test=76.83\n",
      "alpha=5.27, w_1=1.32, mse_train=63.73, mse_test=82.70\n",
      "alpha=5.79, w_1=0.79, mse_train=69.55, mse_test=89.07\n",
      "alpha=6.32, w_1=0.27, mse_train=75.92, mse_test=95.93\n",
      "alpha=6.85, w_1=0.00, mse_train=79.37, mse_test=99.62\n",
      "alpha=7.37, w_1=0.00, mse_train=79.37, mse_test=99.62\n",
      "alpha=7.90, w_1=0.00, mse_train=79.37, mse_test=99.62\n",
      "alpha=8.42, w_1=0.00, mse_train=79.37, mse_test=99.62\n",
      "alpha=8.95, w_1=0.00, mse_train=79.37, mse_test=99.62\n",
      "alpha=9.47, w_1=0.00, mse_train=79.37, mse_test=99.62\n",
      "alpha=10.00, w_1=0.00, mse_train=79.37, mse_test=99.62\n"
     ]
    }
   ],
   "source": [
    "alphas = np.linspace(0.01, 10, 20)\n",
    "w_1s = []\n",
    "for alpha in alphas:                                                # 考察不同 alpha 值对模型参数、性能的影响\n",
    "    model_Lasso = Lasso(alpha=alpha)\n",
    "    model_Lasso.fit(X_train_std, y_train)\n",
    "    y_pred_train_Lasso = model_Lasso.predict(X_train_std)\n",
    "    mse_train = mean_squared_error(y_train, y_pred_train_Lasso)\n",
    "    y_pred_test_Lasso = model_Lasso.predict(X_test_std)\n",
    "    mse_test = mean_squared_error(y_test, y_pred_test_Lasso)\n",
    "    w_1 = np.abs(model_Lasso.coef_).sum()             # 系数的 L1 范数（模）之和\n",
    "    w_1s.append(w_1)\n",
    "    print(f\"alpha={alpha:.2f}, w_1={w_1:.2f}, mse_train={mse_train:.2f}, mse_test={mse_test:.2f}\")"
   ]
  },
  {
   "cell_type": "code",
   "execution_count": 12,
   "metadata": {},
   "outputs": [
    {
     "data": {
      "text/plain": [
       "Text(0, 0.5, 'w_1')"
      ]
     },
     "execution_count": 12,
     "metadata": {},
     "output_type": "execute_result"
    },
    {
     "data": {
      "image/png": "[encoded data removed]",
      "text/plain": [
       "<Figure size 640x480 with 1 Axes>"
      ]
     },
     "metadata": {},
     "output_type": "display_data"
    }
   ],
   "source": [
    "plt.plot(alphas, w_1s)\n",
    "plt.xlabel('alpha')\n",
    "plt.ylabel('w_1')"
   ]
  },
  {
   "cell_type": "markdown",
   "metadata": {},
   "source": [
    "## 3. Decision tree regression"
   ]
  },
  {
   "cell_type": "code",
   "execution_count": 25,
   "metadata": {},
   "outputs": [
    {
     "name": "stdout",
     "output_type": "stream",
     "text": [
      "train mse: 16.26, test mse: 29.71\n"
     ]
    }
   ],
   "source": [
    "from sklearn import tree\n",
    "\n",
    "model_DT = tree.DecisionTreeRegressor(max_depth=3)\n",
    "model_DT.fit(X_train_std, y_train)\n",
    "y_pred_train_DT = model_DT.predict(X_train_std)\n",
    "mse_train = mean_squared_error(y_train, y_pred_train_DT)\n",
    "y_pred_test_DT = model_DT.predict(X_test_std)\n",
    "mse_test = mean_squared_error(y_test, y_pred_test_DT)\n",
    "\n",
    "print(f\"train mse: {mse_train:.2f}, test mse: {mse_test:.2f}\")"
   ]
  },
  {
   "cell_type": "code",
   "execution_count": 26,
   "metadata": {},
   "outputs": [
    {
     "data": {
      "image/svg+xml": [
       "<?xml version=\"1.0\" encoding=\"UTF-8\" standalone=\"no\"?>\n",
       "<!DOCTYPE svg PUBLIC \"-//W3C//DTD SVG 1.1//EN\"\n",
       " \"http://www.w3.org/Graphics/SVG/1.1/DTD/svg11.dtd\">\n",
       "<!-- Generated by graphviz version 2.50.0 (0)\n",
       " -->\n",
       "<!-- Title: Tree Pages: 1 -->\n",
       "<svg width=\"1336pt\" height=\"373pt\"\n",
       " viewBox=\"0.00 0.00 1335.50 373.00\" xmlns=\"http://www.w3.org/2000/svg\" xmlns:xlink=\"http://www.w3.org/1999/xlink\">\n",
       "<g id=\"graph0\" class=\"graph\" transform=\"scale(1 1) rotate(0) translate(4 369)\">\n",
       "<title>Tree</title>\n",
       "<polygon fill=\"white\" stroke=\"transparent\" points=\"-4,4 -4,-369 1331.5,-369 1331.5,4 -4,4\"/>\n",
       "<!-- 0 -->\n",
       "<g id=\"node1\" class=\"node\">\n",
       "<title>0</title>\n",
       "<polygon fill=\"#f7dac5\" stroke=\"black\" points=\"720,-365 562,-365 562,-297 720,-297 720,-365\"/>\n",
       "<text text-anchor=\"middle\" x=\"641\" y=\"-349.8\" font-family=\"Helvetica,sans-Serif\" font-size=\"14.00\">LSTAT &lt;= &#45;0.44</text>\n",
       "<text text-anchor=\"middle\" x=\"641\" y=\"-334.8\" font-family=\"Helvetica,sans-Serif\" font-size=\"14.00\">squared_error = 79.373</text>\n",
       "<text text-anchor=\"middle\" x=\"641\" y=\"-319.8\" font-family=\"Helvetica,sans-Serif\" font-size=\"14.00\">samples = 379</text>\n",
       "<text text-anchor=\"middle\" x=\"641\" y=\"-304.8\" font-family=\"Helvetica,sans-Serif\" font-size=\"14.00\">value = 22.345</text>\n",
       "</g>\n",
       "<!-- 1 -->\n",
       "<g id=\"node2\" class=\"node\">\n",
       "<title>1</title>\n",
       "<polygon fill=\"#f3c3a1\" stroke=\"black\" points=\"560,-261 402,-261 402,-193 560,-193 560,-261\"/>\n",
       "<text text-anchor=\"middle\" x=\"481\" y=\"-245.8\" font-family=\"Helvetica,sans-Serif\" font-size=\"14.00\">RM &lt;= 1.718</text>\n",
       "<text text-anchor=\"middle\" x=\"481\" y=\"-230.8\" font-family=\"Helvetica,sans-Serif\" font-size=\"14.00\">squared_error = 74.078</text>\n",
       "<text text-anchor=\"middle\" x=\"481\" y=\"-215.8\" font-family=\"Helvetica,sans-Serif\" font-size=\"14.00\">samples = 155</text>\n",
       "<text text-anchor=\"middle\" x=\"481\" y=\"-200.8\" font-family=\"Helvetica,sans-Serif\" font-size=\"14.00\">value = 29.53</text>\n",
       "</g>\n",
       "<!-- 0&#45;&gt;1 -->\n",
       "<g id=\"edge1\" class=\"edge\">\n",
       "<title>0&#45;&gt;1</title>\n",
       "<path fill=\"none\" stroke=\"black\" d=\"M589.05,-296.88C573.89,-287.21 557.18,-276.56 541.53,-266.59\"/>\n",
       "<polygon fill=\"black\" stroke=\"black\" points=\"543.27,-263.55 532.96,-261.12 539.51,-269.45 543.27,-263.55\"/>\n",
       "<text text-anchor=\"middle\" x=\"538.36\" y=\"-281.83\" font-family=\"Helvetica,sans-Serif\" font-size=\"14.00\">True</text>\n",
       "</g>\n",
       "<!-- 8 -->\n",
       "<g id=\"node9\" class=\"node\">\n",
       "<title>8</title>\n",
       "<polygon fill=\"#fbeade\" stroke=\"black\" points=\"895,-261 737,-261 737,-193 895,-193 895,-261\"/>\n",
       "<text text-anchor=\"middle\" x=\"816\" y=\"-245.8\" font-family=\"Helvetica,sans-Serif\" font-size=\"14.00\">LSTAT &lt;= 0.874</text>\n",
       "<text text-anchor=\"middle\" x=\"816\" y=\"-230.8\" font-family=\"Helvetica,sans-Serif\" font-size=\"14.00\">squared_error = 22.595</text>\n",
       "<text text-anchor=\"middle\" x=\"816\" y=\"-215.8\" font-family=\"Helvetica,sans-Serif\" font-size=\"14.00\">samples = 224</text>\n",
       "<text text-anchor=\"middle\" x=\"816\" y=\"-200.8\" font-family=\"Helvetica,sans-Serif\" font-size=\"14.00\">value = 17.373</text>\n",
       "</g>\n",
       "<!-- 0&#45;&gt;8 -->\n",
       "<g id=\"edge8\" class=\"edge\">\n",
       "<title>0&#45;&gt;8</title>\n",
       "<path fill=\"none\" stroke=\"black\" d=\"M697.82,-296.88C714.56,-287.12 733.02,-276.37 750.27,-266.31\"/>\n",
       "<polygon fill=\"black\" stroke=\"black\" points=\"752.29,-269.18 759.17,-261.12 748.77,-263.14 752.29,-269.18\"/>\n",
       "<text text-anchor=\"middle\" x=\"752.8\" y=\"-281.6\" font-family=\"Helvetica,sans-Serif\" font-size=\"14.00\">False</text>\n",
       "</g>\n",
       "<!-- 2 -->\n",
       "<g id=\"node3\" class=\"node\">\n",
       "<title>2</title>\n",
       "<polygon fill=\"#f4caac\" stroke=\"black\" points=\"312,-157 154,-157 154,-89 312,-89 312,-157\"/>\n",
       "<text text-anchor=\"middle\" x=\"233\" y=\"-141.8\" font-family=\"Helvetica,sans-Serif\" font-size=\"14.00\">DIS &lt;= &#45;1.095</text>\n",
       "<text text-anchor=\"middle\" x=\"233\" y=\"-126.8\" font-family=\"Helvetica,sans-Serif\" font-size=\"14.00\">squared_error = 42.182</text>\n",
       "<text text-anchor=\"middle\" x=\"233\" y=\"-111.8\" font-family=\"Helvetica,sans-Serif\" font-size=\"14.00\">samples = 135</text>\n",
       "<text text-anchor=\"middle\" x=\"233\" y=\"-96.8\" font-family=\"Helvetica,sans-Serif\" font-size=\"14.00\">value = 27.375</text>\n",
       "</g>\n",
       "<!-- 1&#45;&gt;2 -->\n",
       "<g id=\"edge2\" class=\"edge\">\n",
       "<title>1&#45;&gt;2</title>\n",
       "<path fill=\"none\" stroke=\"black\" d=\"M401.85,-193.45C376.35,-182.96 347.92,-171.26 321.77,-160.51\"/>\n",
       "<polygon fill=\"black\" stroke=\"black\" points=\"322.83,-157.16 312.25,-156.59 320.17,-163.64 322.83,-157.16\"/>\n",
       "</g>\n",
       "<!-- 5 -->\n",
       "<g id=\"node6\" class=\"node\">\n",
       "<title>5</title>\n",
       "<polygon fill=\"#e99457\" stroke=\"black\" points=\"560,-157 402,-157 402,-89 560,-89 560,-157\"/>\n",
       "<text text-anchor=\"middle\" x=\"481\" y=\"-141.8\" font-family=\"Helvetica,sans-Serif\" font-size=\"14.00\">RM &lt;= 3.399</text>\n",
       "<text text-anchor=\"middle\" x=\"481\" y=\"-126.8\" font-family=\"Helvetica,sans-Serif\" font-size=\"14.00\">squared_error = 46.467</text>\n",
       "<text text-anchor=\"middle\" x=\"481\" y=\"-111.8\" font-family=\"Helvetica,sans-Serif\" font-size=\"14.00\">samples = 20</text>\n",
       "<text text-anchor=\"middle\" x=\"481\" y=\"-96.8\" font-family=\"Helvetica,sans-Serif\" font-size=\"14.00\">value = 44.075</text>\n",
       "</g>\n",
       "<!-- 1&#45;&gt;5 -->\n",
       "<g id=\"edge5\" class=\"edge\">\n",
       "<title>1&#45;&gt;5</title>\n",
       "<path fill=\"none\" stroke=\"black\" d=\"M481,-192.88C481,-184.78 481,-175.98 481,-167.47\"/>\n",
       "<polygon fill=\"black\" stroke=\"black\" points=\"484.5,-167.3 481,-157.3 477.5,-167.3 484.5,-167.3\"/>\n",
       "</g>\n",
       "<!-- 3 -->\n",
       "<g id=\"node4\" class=\"node\">\n",
       "<title>3</title>\n",
       "<polygon fill=\"#e58139\" stroke=\"black\" points=\"136,-53 0,-53 0,0 136,0 136,-53\"/>\n",
       "<text text-anchor=\"middle\" x=\"68\" y=\"-37.8\" font-family=\"Helvetica,sans-Serif\" font-size=\"14.00\">squared_error = 0.0</text>\n",
       "<text text-anchor=\"middle\" x=\"68\" y=\"-22.8\" font-family=\"Helvetica,sans-Serif\" font-size=\"14.00\">samples = 4</text>\n",
       "<text text-anchor=\"middle\" x=\"68\" y=\"-7.8\" font-family=\"Helvetica,sans-Serif\" font-size=\"14.00\">value = 50.0</text>\n",
       "</g>\n",
       "<!-- 2&#45;&gt;3 -->\n",
       "<g id=\"edge3\" class=\"edge\">\n",
       "<title>2&#45;&gt;3</title>\n",
       "<path fill=\"none\" stroke=\"black\" d=\"M175.29,-88.95C157.8,-78.93 138.67,-67.98 121.47,-58.13\"/>\n",
       "<polygon fill=\"black\" stroke=\"black\" points=\"123.09,-55.02 112.68,-53.09 119.61,-61.09 123.09,-55.02\"/>\n",
       "</g>\n",
       "<!-- 4 -->\n",
       "<g id=\"node5\" class=\"node\">\n",
       "<title>4</title>\n",
       "<polygon fill=\"#f5ccaf\" stroke=\"black\" points=\"312,-53 154,-53 154,0 312,0 312,-53\"/>\n",
       "<text text-anchor=\"middle\" x=\"233\" y=\"-37.8\" font-family=\"Helvetica,sans-Serif\" font-size=\"14.00\">squared_error = 27.362</text>\n",
       "<text text-anchor=\"middle\" x=\"233\" y=\"-22.8\" font-family=\"Helvetica,sans-Serif\" font-size=\"14.00\">samples = 131</text>\n",
       "<text text-anchor=\"middle\" x=\"233\" y=\"-7.8\" font-family=\"Helvetica,sans-Serif\" font-size=\"14.00\">value = 26.684</text>\n",
       "</g>\n",
       "<!-- 2&#45;&gt;4 -->\n",
       "<g id=\"edge4\" class=\"edge\">\n",
       "<title>2&#45;&gt;4</title>\n",
       "<path fill=\"none\" stroke=\"black\" d=\"M233,-88.95C233,-80.72 233,-71.85 233,-63.48\"/>\n",
       "<polygon fill=\"black\" stroke=\"black\" points=\"236.5,-63.24 233,-53.24 229.5,-63.24 236.5,-63.24\"/>\n",
       "</g>\n",
       "<!-- 6 -->\n",
       "<g id=\"node7\" class=\"node\">\n",
       "<title>6</title>\n",
       "<polygon fill=\"#e89051\" stroke=\"black\" points=\"481.5,-53 330.5,-53 330.5,0 481.5,0 481.5,-53\"/>\n",
       "<text text-anchor=\"middle\" x=\"406\" y=\"-37.8\" font-family=\"Helvetica,sans-Serif\" font-size=\"14.00\">squared_error = 21.67</text>\n",
       "<text text-anchor=\"middle\" x=\"406\" y=\"-22.8\" font-family=\"Helvetica,sans-Serif\" font-size=\"14.00\">samples = 19</text>\n",
       "<text text-anchor=\"middle\" x=\"406\" y=\"-7.8\" font-family=\"Helvetica,sans-Serif\" font-size=\"14.00\">value = 45.242</text>\n",
       "</g>\n",
       "<!-- 5&#45;&gt;6 -->\n",
       "<g id=\"edge6\" class=\"edge\">\n",
       "<title>5&#45;&gt;6</title>\n",
       "<path fill=\"none\" stroke=\"black\" d=\"M454.77,-88.95C447.65,-79.98 439.94,-70.27 432.8,-61.26\"/>\n",
       "<polygon fill=\"black\" stroke=\"black\" points=\"435.38,-58.89 426.43,-53.24 429.9,-63.25 435.38,-58.89\"/>\n",
       "</g>\n",
       "<!-- 7 -->\n",
       "<g id=\"node8\" class=\"node\">\n",
       "<title>7</title>\n",
       "<polygon fill=\"#f8dcc7\" stroke=\"black\" points=\"636,-53 500,-53 500,0 636,0 636,-53\"/>\n",
       "<text text-anchor=\"middle\" x=\"568\" y=\"-37.8\" font-family=\"Helvetica,sans-Serif\" font-size=\"14.00\">squared_error = 0.0</text>\n",
       "<text text-anchor=\"middle\" x=\"568\" y=\"-22.8\" font-family=\"Helvetica,sans-Serif\" font-size=\"14.00\">samples = 1</text>\n",
       "<text text-anchor=\"middle\" x=\"568\" y=\"-7.8\" font-family=\"Helvetica,sans-Serif\" font-size=\"14.00\">value = 21.9</text>\n",
       "</g>\n",
       "<!-- 5&#45;&gt;7 -->\n",
       "<g id=\"edge7\" class=\"edge\">\n",
       "<title>5&#45;&gt;7</title>\n",
       "<path fill=\"none\" stroke=\"black\" d=\"M511.43,-88.95C519.85,-79.8 528.99,-69.87 537.42,-60.71\"/>\n",
       "<polygon fill=\"black\" stroke=\"black\" points=\"540.11,-62.96 544.31,-53.24 534.96,-58.22 540.11,-62.96\"/>\n",
       "</g>\n",
       "<!-- 9 -->\n",
       "<g id=\"node10\" class=\"node\">\n",
       "<title>9</title>\n",
       "<polygon fill=\"#f9e4d5\" stroke=\"black\" points=\"891.5,-157 740.5,-157 740.5,-89 891.5,-89 891.5,-157\"/>\n",
       "<text text-anchor=\"middle\" x=\"816\" y=\"-141.8\" font-family=\"Helvetica,sans-Serif\" font-size=\"14.00\">LSTAT &lt;= 0.274</text>\n",
       "<text text-anchor=\"middle\" x=\"816\" y=\"-126.8\" font-family=\"Helvetica,sans-Serif\" font-size=\"14.00\">squared_error = 12.42</text>\n",
       "<text text-anchor=\"middle\" x=\"816\" y=\"-111.8\" font-family=\"Helvetica,sans-Serif\" font-size=\"14.00\">samples = 159</text>\n",
       "<text text-anchor=\"middle\" x=\"816\" y=\"-96.8\" font-family=\"Helvetica,sans-Serif\" font-size=\"14.00\">value = 19.228</text>\n",
       "</g>\n",
       "<!-- 8&#45;&gt;9 -->\n",
       "<g id=\"edge9\" class=\"edge\">\n",
       "<title>8&#45;&gt;9</title>\n",
       "<path fill=\"none\" stroke=\"black\" d=\"M816,-192.88C816,-184.78 816,-175.98 816,-167.47\"/>\n",
       "<polygon fill=\"black\" stroke=\"black\" points=\"819.5,-167.3 816,-157.3 812.5,-167.3 819.5,-167.3\"/>\n",
       "</g>\n",
       "<!-- 12 -->\n",
       "<g id=\"node13\" class=\"node\">\n",
       "<title>12</title>\n",
       "<polygon fill=\"#fef9f5\" stroke=\"black\" points=\"1154.5,-157 1003.5,-157 1003.5,-89 1154.5,-89 1154.5,-157\"/>\n",
       "<text text-anchor=\"middle\" x=\"1079\" y=\"-141.8\" font-family=\"Helvetica,sans-Serif\" font-size=\"14.00\">NOX &lt;= 0.416</text>\n",
       "<text text-anchor=\"middle\" x=\"1079\" y=\"-126.8\" font-family=\"Helvetica,sans-Serif\" font-size=\"14.00\">squared_error = 18.48</text>\n",
       "<text text-anchor=\"middle\" x=\"1079\" y=\"-111.8\" font-family=\"Helvetica,sans-Serif\" font-size=\"14.00\">samples = 65</text>\n",
       "<text text-anchor=\"middle\" x=\"1079\" y=\"-96.8\" font-family=\"Helvetica,sans-Serif\" font-size=\"14.00\">value = 12.835</text>\n",
       "</g>\n",
       "<!-- 8&#45;&gt;12 -->\n",
       "<g id=\"edge12\" class=\"edge\">\n",
       "<title>8&#45;&gt;12</title>\n",
       "<path fill=\"none\" stroke=\"black\" d=\"M895.27,-195.26C926.24,-183.24 961.84,-169.44 993.4,-157.2\"/>\n",
       "<polygon fill=\"black\" stroke=\"black\" points=\"995,-160.33 1003.05,-153.45 992.47,-153.81 995,-160.33\"/>\n",
       "</g>\n",
       "<!-- 10 -->\n",
       "<g id=\"node11\" class=\"node\">\n",
       "<title>10</title>\n",
       "<polygon fill=\"#f9e0ce\" stroke=\"black\" points=\"805.5,-53 654.5,-53 654.5,0 805.5,0 805.5,-53\"/>\n",
       "<text text-anchor=\"middle\" x=\"730\" y=\"-37.8\" font-family=\"Helvetica,sans-Serif\" font-size=\"14.00\">squared_error = 8.266</text>\n",
       "<text text-anchor=\"middle\" x=\"730\" y=\"-22.8\" font-family=\"Helvetica,sans-Serif\" font-size=\"14.00\">samples = 96</text>\n",
       "<text text-anchor=\"middle\" x=\"730\" y=\"-7.8\" font-family=\"Helvetica,sans-Serif\" font-size=\"14.00\">value = 20.627</text>\n",
       "</g>\n",
       "<!-- 9&#45;&gt;10 -->\n",
       "<g id=\"edge10\" class=\"edge\">\n",
       "<title>9&#45;&gt;10</title>\n",
       "<path fill=\"none\" stroke=\"black\" d=\"M785.92,-88.95C777.6,-79.8 768.56,-69.87 760.23,-60.71\"/>\n",
       "<polygon fill=\"black\" stroke=\"black\" points=\"762.74,-58.28 753.42,-53.24 757.56,-62.99 762.74,-58.28\"/>\n",
       "</g>\n",
       "<!-- 11 -->\n",
       "<g id=\"node12\" class=\"node\">\n",
       "<title>11</title>\n",
       "<polygon fill=\"#fbebe0\" stroke=\"black\" points=\"982,-53 824,-53 824,0 982,0 982,-53\"/>\n",
       "<text text-anchor=\"middle\" x=\"903\" y=\"-37.8\" font-family=\"Helvetica,sans-Serif\" font-size=\"14.00\">squared_error = 11.219</text>\n",
       "<text text-anchor=\"middle\" x=\"903\" y=\"-22.8\" font-family=\"Helvetica,sans-Serif\" font-size=\"14.00\">samples = 63</text>\n",
       "<text text-anchor=\"middle\" x=\"903\" y=\"-7.8\" font-family=\"Helvetica,sans-Serif\" font-size=\"14.00\">value = 17.095</text>\n",
       "</g>\n",
       "<!-- 9&#45;&gt;11 -->\n",
       "<g id=\"edge11\" class=\"edge\">\n",
       "<title>9&#45;&gt;11</title>\n",
       "<path fill=\"none\" stroke=\"black\" d=\"M846.43,-88.95C854.85,-79.8 863.99,-69.87 872.42,-60.71\"/>\n",
       "<polygon fill=\"black\" stroke=\"black\" points=\"875.11,-62.96 879.31,-53.24 869.96,-58.22 875.11,-62.96\"/>\n",
       "</g>\n",
       "<!-- 13 -->\n",
       "<g id=\"node14\" class=\"node\">\n",
       "<title>13</title>\n",
       "<polygon fill=\"#fbebdf\" stroke=\"black\" points=\"1158,-53 1000,-53 1000,0 1158,0 1158,-53\"/>\n",
       "<text text-anchor=\"middle\" x=\"1079\" y=\"-37.8\" font-family=\"Helvetica,sans-Serif\" font-size=\"14.00\">squared_error = 11.561</text>\n",
       "<text text-anchor=\"middle\" x=\"1079\" y=\"-22.8\" font-family=\"Helvetica,sans-Serif\" font-size=\"14.00\">samples = 20</text>\n",
       "<text text-anchor=\"middle\" x=\"1079\" y=\"-7.8\" font-family=\"Helvetica,sans-Serif\" font-size=\"14.00\">value = 17.145</text>\n",
       "</g>\n",
       "<!-- 12&#45;&gt;13 -->\n",
       "<g id=\"edge13\" class=\"edge\">\n",
       "<title>12&#45;&gt;13</title>\n",
       "<path fill=\"none\" stroke=\"black\" d=\"M1079,-88.95C1079,-80.72 1079,-71.85 1079,-63.48\"/>\n",
       "<polygon fill=\"black\" stroke=\"black\" points=\"1082.5,-63.24 1079,-53.24 1075.5,-63.24 1082.5,-63.24\"/>\n",
       "</g>\n",
       "<!-- 14 -->\n",
       "<g id=\"node15\" class=\"node\">\n",
       "<title>14</title>\n",
       "<polygon fill=\"#ffffff\" stroke=\"black\" points=\"1327.5,-53 1176.5,-53 1176.5,0 1327.5,0 1327.5,-53\"/>\n",
       "<text text-anchor=\"middle\" x=\"1252\" y=\"-37.8\" font-family=\"Helvetica,sans-Serif\" font-size=\"14.00\">squared_error = 9.632</text>\n",
       "<text text-anchor=\"middle\" x=\"1252\" y=\"-22.8\" font-family=\"Helvetica,sans-Serif\" font-size=\"14.00\">samples = 45</text>\n",
       "<text text-anchor=\"middle\" x=\"1252\" y=\"-7.8\" font-family=\"Helvetica,sans-Serif\" font-size=\"14.00\">value = 10.92</text>\n",
       "</g>\n",
       "<!-- 12&#45;&gt;14 -->\n",
       "<g id=\"edge14\" class=\"edge\">\n",
       "<title>12&#45;&gt;14</title>\n",
       "<path fill=\"none\" stroke=\"black\" d=\"M1139.51,-88.95C1157.84,-78.93 1177.9,-67.98 1195.93,-58.13\"/>\n",
       "<polygon fill=\"black\" stroke=\"black\" points=\"1198.06,-60.95 1205.16,-53.09 1194.7,-54.81 1198.06,-60.95\"/>\n",
       "</g>\n",
       "</g>\n",
       "</svg>\n"
      ],
      "text/plain": [
       "<graphviz.sources.Source at 0x1aa0062cd10>"
      ]
     },
     "execution_count": 26,
     "metadata": {},
     "output_type": "execute_result"
    }
   ],
   "source": [
    "import graphviz                                                                         # DOT 格式文档的可视化库\n",
    "\n",
    "dot_data = tree.export_graphviz(model_DT, feature_names=columns[:-1], filled=True)      # 决策树可视化\n",
    "graph = graphviz.Source(dot_data)\n",
    "graph"
   ]
  },
  {
   "cell_type": "code",
   "execution_count": 50,
   "metadata": {},
   "outputs": [],
   "source": [
    "depths = np.arange(1, 10)\n",
    "mse_train_list = []\n",
    "mse_test_list = []\n",
    "for depth in depths:                                                # 考察不同深度对模型性能的影响\n",
    "    model_DT = tree.DecisionTreeRegressor(max_depth=depth)\n",
    "    model_DT.fit(X_train_std, y_train)\n",
    "    y_pred_train_DT = model_DT.predict(X_train_std)\n",
    "    mse_train = mean_squared_error(y_train, y_pred_train_DT)\n",
    "    y_pred_test_DT = model_DT.predict(X_test_std)\n",
    "    mse_test = mean_squared_error(y_test, y_pred_test_DT)\n",
    "    mse_train_list.append(mse_train)\n",
    "    mse_test_list.append(mse_test)"
   ]
  },
  {
   "cell_type": "code",
   "execution_count": 46,
   "metadata": {},
   "outputs": [
    {
     "name": "stdout",
     "output_type": "stream",
     "text": [
      "mse_train=6.31,mse_test=12.24\n"
     ]
    }
   ],
   "source": [
    "print(f\"mse_train={mse_train_list[4]:.2f},mse_test={mse_test_list[4]:.2f}\")"
   ]
  },
  {
   "cell_type": "code",
   "execution_count": 51,
   "metadata": {},
   "outputs": [
    {
     "data": {
      "text/plain": [
       "<matplotlib.legend.Legend at 0x1aa18f295d0>"
      ]
     },
     "execution_count": 51,
     "metadata": {},
     "output_type": "execute_result"
    },
    {
     "data": {
      "image/png": "[encoded data removed]",
      "text/plain": [
       "<Figure size 640x480 with 1 Axes>"
      ]
     },
     "metadata": {},
     "output_type": "display_data"
    }
   ],
   "source": [
    "plt.plot(depths, mse_train_list, label='mse_train')\n",
    "plt.plot(depths, mse_test_list, label='mse_test')\n",
    "plt.xlabel('max_depth')\n",
    "plt.ylabel('loss')\n",
    "plt.legend()"
   ]
  },
  {
   "cell_type": "markdown",
   "metadata": {},
   "source": [
    "## 4. SVR"
   ]
  },
  {
   "cell_type": "code",
   "execution_count": 13,
   "metadata": {},
   "outputs": [],
   "source": [
    "from sklearn import svm\n",
    "\n",
    "scores = {}"
   ]
  },
  {
   "cell_type": "code",
   "execution_count": 35,
   "metadata": {},
   "outputs": [],
   "source": [
    "model_SVM = svm.SVR(kernel='linear', C=100)                            # 线性核函数, C是正则化项, C越大正则化越弱。\n",
    "model_SVM.fit(X_train_std, y_train.values.ravel())              # svm.fit 要求 y 是 1darray\n",
    "y_pred_train_SVM = model_SVM.predict(X_train_std)\n",
    "mse_train = mean_squared_error(y_train, y_pred_train_SVM)\n",
    "y_pred_test_SVM = model_SVM.predict(X_test_std)\n",
    "mse_test = mean_squared_error(y_test, y_pred_test_SVM)\n",
    "scores['linear'] = (mse_train, mse_test)"
   ]
  },
  {
   "cell_type": "code",
   "execution_count": 36,
   "metadata": {},
   "outputs": [
    {
     "name": "stdout",
     "output_type": "stream",
     "text": [
      "w=[[-1.36588194  0.90078073  0.12878347  0.39875987 -1.55266415  3.18885159\n",
      "  -0.632851   -2.11612812  1.9646838  -1.785257   -1.75014524  0.80011674\n",
      "  -2.07817398]]\n",
      "b=[21.50635058]\n"
     ]
    }
   ],
   "source": [
    "print(f\"w={model_SVM.coef_}\")\n",
    "print(f\"b={model_SVM.intercept_}\")"
   ]
  },
  {
   "cell_type": "code",
   "execution_count": 37,
   "metadata": {},
   "outputs": [],
   "source": [
    "model_SVM = svm.SVR(kernel='poly', degree=3, C=30)                            # 多项式核函数\n",
    "model_SVM.fit(X_train_std, y_train.values.ravel())\n",
    "y_pred_train_SVM = model_SVM.predict(X_train_std)\n",
    "mse_train = mean_squared_error(y_train, y_pred_train_SVM)\n",
    "y_pred_test_SVM = model_SVM.predict(X_test_std)\n",
    "mse_test = mean_squared_error(y_test, y_pred_test_SVM)\n",
    "scores['poly'] = (mse_train, mse_test)"
   ]
  },
  {
   "cell_type": "code",
   "execution_count": 38,
   "metadata": {},
   "outputs": [],
   "source": [
    "model_SVM = svm.SVR(kernel='rbf',C=50)                            # 高斯核函数\n",
    "model_SVM.fit(X_train_std, y_train.values.ravel())\n",
    "y_pred_train_SVM = model_SVM.predict(X_train_std)\n",
    "mse_train = mean_squared_error(y_train, y_pred_train_SVM)\n",
    "y_pred_test_SVM = model_SVM.predict(X_test_std)\n",
    "mse_test = mean_squared_error(y_test, y_pred_test_SVM)\n",
    "scores['rbf'] = (mse_train, mse_test)"
   ]
  },
  {
   "cell_type": "code",
   "execution_count": 39,
   "metadata": {},
   "outputs": [
    {
     "name": "stdout",
     "output_type": "stream",
     "text": [
      "linear: mse_train=25.27, mse_test=21.96\n",
      "poly: mse_train=6.79, mse_test=13.42\n",
      "rbf: mse_train=4.96, mse_test=7.06\n"
     ]
    }
   ],
   "source": [
    "for key in scores:\n",
    "    print(f\"{key}: mse_train={scores[key][0]:.2f}, mse_test={scores[key][1]:.2f}\")"
   ]
  },
  {
   "cell_type": "markdown",
   "metadata": {},
   "source": [
    "## 5. Neural Network"
   ]
  },
  {
   "cell_type": "code",
   "execution_count": 40,
   "metadata": {},
   "outputs": [
    {
     "name": "stdout",
     "output_type": "stream",
     "text": [
      "torch.Size([379, 13])\n",
      "torch.Size([379, 1])\n"
     ]
    }
   ],
   "source": [
    "import torch\n",
    "\n",
    "X_train_std_tensor = torch.tensor(X_train_std)              # 数据从 ndarray 和 dataframe 转成 tensor\n",
    "y_train_tensor = torch.tensor(y_train.values)\n",
    "X_test_std_tensor = torch.tensor(X_test_std)\n",
    "y_test_tensor = torch.tensor(y_test.values)\n",
    "\n",
    "print(X_train_std_tensor.shape)\n",
    "print(y_train_tensor.shape)"
   ]
  },
  {
   "cell_type": "code",
   "execution_count": 41,
   "metadata": {},
   "outputs": [],
   "source": [
    "model_NN = torch.nn.Sequential(\n",
    "    torch.nn.Linear(13, 256, dtype=torch.float64),\n",
    "    torch.nn.ReLU(),\n",
    "    torch.nn.Linear(256, 64, dtype=torch.float64),\n",
    "    torch.nn.ReLU(),\n",
    "    torch.nn.Linear(64, 16, dtype=torch.float64),\n",
    "    torch.nn.ReLU(),\n",
    "    torch.nn.Linear(16, 8, dtype=torch.float64),\n",
    "    torch.nn.ReLU(),\n",
    "    torch.nn.Linear(8, 1, dtype=torch.float64)\n",
    ")                                                               # 构建一个 4 隐藏层的前馈神经网络\n",
    "\n",
    "loss_fn = torch.nn.MSELoss(reduction='mean')                    # 均方误差函数\n",
    "optimizer = torch.optim.SGD(model_NN.parameters(), lr=1e-3)     # 梯度下降优化器(使用batch gradient descent)\n",
    "t_list = []\n",
    "loss_train_list = []\n",
    "loss_test_list = []\n",
    "def train_model(model, X, y, X_test, y_test, loss_fn, optimizer, epoch):\n",
    "    for t in range(epoch):\n",
    "        y_pred_train_NN = model(X)                              # 每一轮都对所有样本计算预测值\n",
    "        loss_train = loss_fn(y_pred_train_NN, y)                # 和 loss\n",
    "        optimizer.zero_grad()                                   # 反向传播前，清零累计的梯度\n",
    "        loss_train.backward()                                   # 反向传播计算参数梯度\n",
    "        optimizer.step()                                        # 执行一步迭代\n",
    "        t_list.append(t)\n",
    "        loss_train_list.append(loss_train.item())               # 记录在训练集上的 loss\n",
    "        \n",
    "        with torch.no_grad():\n",
    "            y_pred_test_NN = model(X_test)\n",
    "            loss_test = loss_fn(y_pred_test_NN, y_test)\n",
    "            loss_test_list.append(loss_test.item())             # 记录在测试集上的 loss"
   ]
  },
  {
   "cell_type": "code",
   "execution_count": 42,
   "metadata": {},
   "outputs": [
    {
     "data": {
      "text/plain": [
       "<matplotlib.legend.Legend at 0x1aa0aa3cd90>"
      ]
     },
     "execution_count": 42,
     "metadata": {},
     "output_type": "execute_result"
    },
    {
     "data": {
      "image/png": "[encoded data removed]",
      "text/plain": [
       "<Figure size 640x480 with 1 Axes>"
      ]
     },
     "metadata": {},
     "output_type": "display_data"
    }
   ],
   "source": [
    "train_model(model_NN, X_train_std_tensor, y_train_tensor, X_test_std_tensor, y_test_tensor, loss_fn, optimizer, 200)\n",
    "\n",
    "plt.plot(t_list, loss_train_list, label='mse_train')\n",
    "plt.plot(t_list, loss_test_list, label='mse_test')\n",
    "plt.xlabel('epoch')\n",
    "plt.ylabel('loss')\n",
    "plt.legend()"
   ]
  },
  {
   "cell_type": "code",
   "execution_count": 52,
   "metadata": {},
   "outputs": [
    {
     "name": "stdout",
     "output_type": "stream",
     "text": [
      "mse_train=10.70, mse_test=10.62\n"
     ]
    }
   ],
   "source": [
    "print(f\"mse_train={loss_train_list[-1]:.2f}, mse_test={loss_test_list[-1]:.2f}\")"
   ]
  },
  {
   "cell_type": "markdown",
   "metadata": {},
   "source": [
    "## 6. Bonus"
   ]
  },
  {
   "cell_type": "code",
   "execution_count": 17,
   "metadata": {},
   "outputs": [
    {
     "data": {
      "text/html": [
       "<div>\n",
       "<style scoped>\n",
       "    .dataframe tbody tr th:only-of-type {\n",
       "        vertical-align: middle;\n",
       "    }\n",
       "\n",
       "    .dataframe tbody tr th {\n",
       "        vertical-align: top;\n",
       "    }\n",
       "\n",
       "    .dataframe thead th {\n",
       "        text-align: right;\n",
       "    }\n",
       "</style>\n",
       "<table border=\"1\" class=\"dataframe\">\n",
       "  <thead>\n",
       "    <tr style=\"text-align: right;\">\n",
       "      <th></th>\n",
       "      <th>month</th>\n",
       "      <th>price</th>\n",
       "    </tr>\n",
       "  </thead>\n",
       "  <tbody>\n",
       "    <tr>\n",
       "      <th>0</th>\n",
       "      <td>1</td>\n",
       "      <td>40428</td>\n",
       "    </tr>\n",
       "    <tr>\n",
       "      <th>1</th>\n",
       "      <td>2</td>\n",
       "      <td>40592</td>\n",
       "    </tr>\n",
       "    <tr>\n",
       "      <th>2</th>\n",
       "      <td>3</td>\n",
       "      <td>40554</td>\n",
       "    </tr>\n",
       "    <tr>\n",
       "      <th>3</th>\n",
       "      <td>4</td>\n",
       "      <td>39812</td>\n",
       "    </tr>\n",
       "    <tr>\n",
       "      <th>4</th>\n",
       "      <td>5</td>\n",
       "      <td>39429</td>\n",
       "    </tr>\n",
       "    <tr>\n",
       "      <th>5</th>\n",
       "      <td>6</td>\n",
       "      <td>39378</td>\n",
       "    </tr>\n",
       "    <tr>\n",
       "      <th>6</th>\n",
       "      <td>7</td>\n",
       "      <td>37716</td>\n",
       "    </tr>\n",
       "    <tr>\n",
       "      <th>7</th>\n",
       "      <td>8</td>\n",
       "      <td>37323</td>\n",
       "    </tr>\n",
       "    <tr>\n",
       "      <th>8</th>\n",
       "      <td>9</td>\n",
       "      <td>36722</td>\n",
       "    </tr>\n",
       "    <tr>\n",
       "      <th>9</th>\n",
       "      <td>10</td>\n",
       "      <td>36994</td>\n",
       "    </tr>\n",
       "    <tr>\n",
       "      <th>10</th>\n",
       "      <td>11</td>\n",
       "      <td>37128</td>\n",
       "    </tr>\n",
       "    <tr>\n",
       "      <th>11</th>\n",
       "      <td>12</td>\n",
       "      <td>37294</td>\n",
       "    </tr>\n",
       "    <tr>\n",
       "      <th>12</th>\n",
       "      <td>13</td>\n",
       "      <td>37261</td>\n",
       "    </tr>\n",
       "    <tr>\n",
       "      <th>13</th>\n",
       "      <td>14</td>\n",
       "      <td>37732</td>\n",
       "    </tr>\n",
       "    <tr>\n",
       "      <th>14</th>\n",
       "      <td>15</td>\n",
       "      <td>37876</td>\n",
       "    </tr>\n",
       "    <tr>\n",
       "      <th>15</th>\n",
       "      <td>16</td>\n",
       "      <td>38231</td>\n",
       "    </tr>\n",
       "    <tr>\n",
       "      <th>16</th>\n",
       "      <td>17</td>\n",
       "      <td>38716</td>\n",
       "    </tr>\n",
       "    <tr>\n",
       "      <th>17</th>\n",
       "      <td>18</td>\n",
       "      <td>38850</td>\n",
       "    </tr>\n",
       "    <tr>\n",
       "      <th>18</th>\n",
       "      <td>19</td>\n",
       "      <td>39691</td>\n",
       "    </tr>\n",
       "    <tr>\n",
       "      <th>19</th>\n",
       "      <td>20</td>\n",
       "      <td>40168</td>\n",
       "    </tr>\n",
       "  </tbody>\n",
       "</table>\n",
       "</div>"
      ],
      "text/plain": [
       "    month  price\n",
       "0       1  40428\n",
       "1       2  40592\n",
       "2       3  40554\n",
       "3       4  39812\n",
       "4       5  39429\n",
       "5       6  39378\n",
       "6       7  37716\n",
       "7       8  37323\n",
       "8       9  36722\n",
       "9      10  36994\n",
       "10     11  37128\n",
       "11     12  37294\n",
       "12     13  37261\n",
       "13     14  37732\n",
       "14     15  37876\n",
       "15     16  38231\n",
       "16     17  38716\n",
       "17     18  38850\n",
       "18     19  39691\n",
       "19     20  40168"
      ]
     },
     "execution_count": 17,
     "metadata": {},
     "output_type": "execute_result"
    }
   ],
   "source": [
    "df = pd.read_csv('housing_bj.csv')          # 从安居客网上整理下来的数据集,见https://github.com/megrezbunny/2023.9_ML\n",
    "df.head(20)"
   ]
  },
  {
   "cell_type": "code",
   "execution_count": 18,
   "metadata": {},
   "outputs": [
    {
     "data": {
      "text/html": [
       "<div>\n",
       "<style scoped>\n",
       "    .dataframe tbody tr th:only-of-type {\n",
       "        vertical-align: middle;\n",
       "    }\n",
       "\n",
       "    .dataframe tbody tr th {\n",
       "        vertical-align: top;\n",
       "    }\n",
       "\n",
       "    .dataframe thead th {\n",
       "        text-align: right;\n",
       "    }\n",
       "</style>\n",
       "<table border=\"1\" class=\"dataframe\">\n",
       "  <thead>\n",
       "    <tr style=\"text-align: right;\">\n",
       "      <th></th>\n",
       "      <th>month</th>\n",
       "      <th>price</th>\n",
       "    </tr>\n",
       "  </thead>\n",
       "  <tbody>\n",
       "    <tr>\n",
       "      <th>count</th>\n",
       "      <td>117.000000</td>\n",
       "      <td>117.000000</td>\n",
       "    </tr>\n",
       "    <tr>\n",
       "      <th>mean</th>\n",
       "      <td>59.000000</td>\n",
       "      <td>53437.008547</td>\n",
       "    </tr>\n",
       "    <tr>\n",
       "      <th>std</th>\n",
       "      <td>33.919021</td>\n",
       "      <td>8548.627271</td>\n",
       "    </tr>\n",
       "    <tr>\n",
       "      <th>min</th>\n",
       "      <td>1.000000</td>\n",
       "      <td>36722.000000</td>\n",
       "    </tr>\n",
       "    <tr>\n",
       "      <th>25%</th>\n",
       "      <td>30.000000</td>\n",
       "      <td>44854.000000</td>\n",
       "    </tr>\n",
       "    <tr>\n",
       "      <th>50%</th>\n",
       "      <td>59.000000</td>\n",
       "      <td>58150.000000</td>\n",
       "    </tr>\n",
       "    <tr>\n",
       "      <th>75%</th>\n",
       "      <td>88.000000</td>\n",
       "      <td>59376.000000</td>\n",
       "    </tr>\n",
       "    <tr>\n",
       "      <th>max</th>\n",
       "      <td>117.000000</td>\n",
       "      <td>61613.000000</td>\n",
       "    </tr>\n",
       "  </tbody>\n",
       "</table>\n",
       "</div>"
      ],
      "text/plain": [
       "            month         price\n",
       "count  117.000000    117.000000\n",
       "mean    59.000000  53437.008547\n",
       "std     33.919021   8548.627271\n",
       "min      1.000000  36722.000000\n",
       "25%     30.000000  44854.000000\n",
       "50%     59.000000  58150.000000\n",
       "75%     88.000000  59376.000000\n",
       "max    117.000000  61613.000000"
      ]
     },
     "execution_count": 18,
     "metadata": {},
     "output_type": "execute_result"
    }
   ],
   "source": [
    "df.describe()"
   ]
  },
  {
   "cell_type": "code",
   "execution_count": 19,
   "metadata": {},
   "outputs": [
    {
     "data": {
      "text/plain": [
       "Text(0, 0.5, 'price')"
      ]
     },
     "execution_count": 19,
     "metadata": {},
     "output_type": "execute_result"
    },
    {
     "data": {
      "image/png": "[encoded data removed]",
      "text/plain": [
       "<Figure size 640x480 with 1 Axes>"
      ]
     },
     "metadata": {},
     "output_type": "display_data"
    }
   ],
   "source": [
    "plt.plot(df['month'], df['price'])\n",
    "plt.xlabel('months(since 2014/1)')\n",
    "plt.ylabel('price')"
   ]
  },
  {
   "cell_type": "code",
   "execution_count": 20,
   "metadata": {},
   "outputs": [],
   "source": [
    "X_train, y_train = df.iloc[:,:1], df.iloc[:,1:] / 10000\n",
    "X_pred = pd.DataFrame(np.array([[i] for i in range(1,130)]), columns=['month'])"
   ]
  },
  {
   "cell_type": "code",
   "execution_count": 21,
   "metadata": {},
   "outputs": [
    {
     "name": "stdout",
     "output_type": "stream",
     "text": [
      "mse_train=0.02953423000821051\n"
     ]
    },
    {
     "data": {
      "text/plain": [
       "<matplotlib.legend.Legend at 0x1d4ef564b10>"
      ]
     },
     "execution_count": 21,
     "metadata": {},
     "output_type": "execute_result"
    },
    {
     "data": {
      "image/png": "[encoded data removed]",
      "text/plain": [
       "<Figure size 640x480 with 1 Axes>"
      ]
     },
     "metadata": {},
     "output_type": "display_data"
    }
   ],
   "source": [
    "model_SVM = svm.SVR(kernel='rbf',C=50)\n",
    "model_SVM.fit(X_train, y_train.values.ravel())\n",
    "y_pred_train = model_SVM.predict(X_train)\n",
    "y_pred = model_SVM.predict(X_pred)\n",
    "mse_train = mean_squared_error(y_train, y_pred_train)\n",
    "print(f\"mse_train={mse_train}\")\n",
    "\n",
    "plt.plot(X_train, y_train*10000, label='actual')\n",
    "plt.plot(X_pred, y_pred*10000, label='predict')\n",
    "plt.xlabel('months(since 2014/1)')\n",
    "plt.ylabel('price')\n",
    "plt.legend()"
   ]
  },
  {
   "cell_type": "code",
   "execution_count": 28,
   "metadata": {},
   "outputs": [
    {
     "name": "stdout",
     "output_type": "stream",
     "text": [
      "60768,60808,60830,60834,60820,60787,60737,60669,60584,60482,60364,60232,"
     ]
    }
   ],
   "source": [
    "y_next = y_pred[117:]\n",
    "for price in y_next:\n",
    "    print(f\"{price * 10000:.0f},\",end='')"
   ]
  }
 ],
 "metadata": {
  "kernelspec": {
   "display_name": "cuda_work",
   "language": "python",
   "name": "python3"
  },
  "language_info": {
   "codemirror_mode": {
    "name": "ipython",
    "version": 3
   },
   "file_extension": ".py",
   "mimetype": "text/x-python",
   "name": "python",
   "nbconvert_exporter": "python",
   "pygments_lexer": "ipython3",
   "version": "3.11.5"
  },
  "orig_nbformat": 4
 },
 "nbformat": 4,
 "nbformat_minor": 2
}
